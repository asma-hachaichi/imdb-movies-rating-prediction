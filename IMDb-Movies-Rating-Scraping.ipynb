{
 "cells": [
  {
   "cell_type": "markdown",
   "metadata": {},
   "source": [
    "## Movies Rating Scraping from IMDb"
   ]
  },
  {
   "cell_type": "code",
   "execution_count": 2,
   "metadata": {},
   "outputs": [
    {
     "name": "stdout",
     "output_type": "stream",
     "text": [
      "Requirement already satisfied: requests in c:\\users\\hchai\\appdata\\local\\packages\\pythonsoftwarefoundation.python.3.11_qbz5n2kfra8p0\\localcache\\local-packages\\python311\\site-packages (2.31.0)\n",
      "Requirement already satisfied: beautifulsoup4 in c:\\users\\hchai\\appdata\\local\\packages\\pythonsoftwarefoundation.python.3.11_qbz5n2kfra8p0\\localcache\\local-packages\\python311\\site-packages (4.12.2)\n",
      "Requirement already satisfied: pandas in c:\\users\\hchai\\appdata\\local\\packages\\pythonsoftwarefoundation.python.3.11_qbz5n2kfra8p0\\localcache\\local-packages\\python311\\site-packages (2.0.3)\n",
      "Note: you may need to restart the kernel to use updated packages.\n"
     ]
    },
    {
     "name": "stderr",
     "output_type": "stream",
     "text": [
      "ERROR: Could not find a version that satisfies the requirement time (from versions: none)\n",
      "ERROR: No matching distribution found for time\n",
      "\n",
      "[notice] A new release of pip is available: 23.3.1 -> 24.0\n",
      "[notice] To update, run: C:\\Users\\hchai\\AppData\\Local\\Microsoft\\WindowsApps\\PythonSoftwareFoundation.Python.3.11_qbz5n2kfra8p0\\python.exe -m pip install --upgrade pip\n"
     ]
    }
   ],
   "source": [
    "%pip install requests beautifulsoup4 pandas time"
   ]
  },
  {
   "cell_type": "code",
   "execution_count": 3,
   "metadata": {},
   "outputs": [],
   "source": [
    "import requests\n",
    "\n",
    "from bs4 import BeautifulSoup\n",
    "import pandas as pd\n",
    "import time"
   ]
  },
  {
   "cell_type": "code",
   "execution_count": 4,
   "metadata": {},
   "outputs": [
    {
     "data": {
      "text/plain": [
       "['https://www.imdb.com/list/ls000634294/?sort=list_order,asc&st_dt=&mode=detail&page=1',\n",
       " 'https://www.imdb.com/list/ls000634294/?sort=list_order,asc&st_dt=&mode=detail&page=2',\n",
       " 'https://www.imdb.com/list/ls000634294/?sort=list_order,asc&st_dt=&mode=detail&page=3',\n",
       " 'https://www.imdb.com/list/ls000634294/?sort=list_order,asc&st_dt=&mode=detail&page=4',\n",
       " 'https://www.imdb.com/list/ls000634294/?sort=list_order,asc&st_dt=&mode=detail&page=5',\n",
       " 'https://www.imdb.com/list/ls000634294/?sort=list_order,asc&st_dt=&mode=detail&page=6',\n",
       " 'https://www.imdb.com/list/ls000634294/?sort=list_order,asc&st_dt=&mode=detail&page=7',\n",
       " 'https://www.imdb.com/list/ls000634294/?sort=list_order,asc&st_dt=&mode=detail&page=8']"
      ]
     },
     "execution_count": 4,
     "metadata": {},
     "output_type": "execute_result"
    }
   ],
   "source": [
    "# List of URLs of the website to scrape\n",
    "url = \"https://www.imdb.com/list/ls000634294/?sort=list_order,asc&st_dt=&mode=detail&page=\"\n",
    "urls = []\n",
    "\n",
    "for i in range(1,9):\n",
    "    urls.append(url+str(i))\n",
    "\n",
    "urls"
   ]
  },
  {
   "cell_type": "code",
   "execution_count": 5,
   "metadata": {},
   "outputs": [],
   "source": [
    "# The scraping function\n",
    "def scrape(url):\n",
    "    # Send an HTTP GET request to the website\n",
    "    response = requests.get(url)\n",
    "\n",
    "    # Parse the HTML code using BeautifulSoup\n",
    "    soup = BeautifulSoup(response.content, 'html.parser')\n",
    "\n",
    "    # Extract the relevant information from the HTML code\n",
    "    # Loop through each item in the movies list\n",
    "    for item in soup.select('div.lister-list div.lister-item'):\n",
    "        title = item.find('div', class_='lister-item-content').find('h3', class_='lister-item-header').find('a').get_text()\n",
    "        year = item.find('div', class_='lister-item-content').find('h3', class_='lister-item-header').find('span', class_='lister-item-year').get_text()\n",
    "        runtime = item.find('div', class_='lister-item-content').find('p', class_='text-muted').find('span', class_='runtime').get_text()\n",
    "        genre = item.find('div', class_='lister-item-content').find('p', class_='text-muted').find('span', class_='genre').get_text()\n",
    "        rating = item.find('div', class_='lister-item-content').find('div', class_='ipl-rating-widget').find('div', class_='ipl-rating-star').find('span', class_='ipl-rating-star__rating').get_text()\n",
    "        movies.append([title, year, runtime, genre,rating])"
   ]
  },
  {
   "cell_type": "code",
   "execution_count": 6,
   "metadata": {},
   "outputs": [],
   "source": [
    "# Initializing the movies list\n",
    "movies = []\n",
    "\n",
    "# Scraping the pages\n",
    "for url in urls:\n",
    "    scrape(url)\n",
    "\n",
    "# Storing the information in a pandas dataframe\n",
    "df = pd.DataFrame(movies, columns=['Title', 'Year', 'Runtime', 'Genre', 'Rating'])\n",
    "\n",
    "# Adding a delay between requests to avoid overwhelming the website with requests\n",
    "time.sleep(1)"
   ]
  },
  {
   "cell_type": "code",
   "execution_count": 7,
   "metadata": {},
   "outputs": [
    {
     "data": {
      "text/plain": [
       "(787, 5)"
      ]
     },
     "execution_count": 7,
     "metadata": {},
     "output_type": "execute_result"
    }
   ],
   "source": [
    "df.shape"
   ]
  },
  {
   "cell_type": "code",
   "execution_count": 8,
   "metadata": {},
   "outputs": [
    {
     "data": {
      "text/html": [
       "<div>\n",
       "<style scoped>\n",
       "    .dataframe tbody tr th:only-of-type {\n",
       "        vertical-align: middle;\n",
       "    }\n",
       "\n",
       "    .dataframe tbody tr th {\n",
       "        vertical-align: top;\n",
       "    }\n",
       "\n",
       "    .dataframe thead th {\n",
       "        text-align: right;\n",
       "    }\n",
       "</style>\n",
       "<table border=\"1\" class=\"dataframe\">\n",
       "  <thead>\n",
       "    <tr style=\"text-align: right;\">\n",
       "      <th></th>\n",
       "      <th>Title</th>\n",
       "      <th>Year</th>\n",
       "      <th>Runtime</th>\n",
       "      <th>Genre</th>\n",
       "      <th>Rating</th>\n",
       "    </tr>\n",
       "  </thead>\n",
       "  <tbody>\n",
       "    <tr>\n",
       "      <th>0</th>\n",
       "      <td>The Shawshank Redemption</td>\n",
       "      <td>(1994)</td>\n",
       "      <td>142 min</td>\n",
       "      <td>\\nDrama</td>\n",
       "      <td>9.3</td>\n",
       "    </tr>\n",
       "    <tr>\n",
       "      <th>1</th>\n",
       "      <td>The Godfather</td>\n",
       "      <td>(1972)</td>\n",
       "      <td>175 min</td>\n",
       "      <td>\\nCrime, Drama</td>\n",
       "      <td>9.2</td>\n",
       "    </tr>\n",
       "    <tr>\n",
       "      <th>2</th>\n",
       "      <td>Pulp Fiction</td>\n",
       "      <td>(1994)</td>\n",
       "      <td>154 min</td>\n",
       "      <td>\\nCrime, Drama</td>\n",
       "      <td>8.9</td>\n",
       "    </tr>\n",
       "    <tr>\n",
       "      <th>3</th>\n",
       "      <td>The Godfather Part II</td>\n",
       "      <td>(1974)</td>\n",
       "      <td>202 min</td>\n",
       "      <td>\\nCrime, Drama</td>\n",
       "      <td>9</td>\n",
       "    </tr>\n",
       "    <tr>\n",
       "      <th>4</th>\n",
       "      <td>Inception</td>\n",
       "      <td>(2010)</td>\n",
       "      <td>148 min</td>\n",
       "      <td>\\nAction, Adventure, Sci-Fi</td>\n",
       "      <td>8.8</td>\n",
       "    </tr>\n",
       "  </tbody>\n",
       "</table>\n",
       "</div>"
      ],
      "text/plain": [
       "                      Title    Year  Runtime  \\\n",
       "0  The Shawshank Redemption  (1994)  142 min   \n",
       "1             The Godfather  (1972)  175 min   \n",
       "2              Pulp Fiction  (1994)  154 min   \n",
       "3     The Godfather Part II  (1974)  202 min   \n",
       "4                 Inception  (2010)  148 min   \n",
       "\n",
       "                                     Genre Rating  \n",
       "0                      \\nDrama                9.3  \n",
       "1               \\nCrime, Drama                9.2  \n",
       "2               \\nCrime, Drama                8.9  \n",
       "3               \\nCrime, Drama                  9  \n",
       "4  \\nAction, Adventure, Sci-Fi                8.8  "
      ]
     },
     "execution_count": 8,
     "metadata": {},
     "output_type": "execute_result"
    }
   ],
   "source": [
    "df.head()"
   ]
  },
  {
   "cell_type": "code",
   "execution_count": 12,
   "metadata": {},
   "outputs": [],
   "source": [
    "# Eliminating the () from year \n",
    "df['Year'] = df['Year'].str.replace(r'[()]', '', regex=True)\n",
    "\n",
    "# Deleting min from Runtime\n",
    "df['Runtime'] = df['Runtime'].str.replace(\" min\", '', regex=True)\n",
    "\n",
    "# Deleting the \\n from Genre\n",
    "df['Genre'] = df['Genre'].str.replace(r'[\\n]', '', regex=True)\n",
    "\n",
    "# Removing spaces from Genre\n",
    "df['Genre'] = df['Genre'].str.replace(r'[            ]', '', regex=True)\n"
   ]
  },
  {
   "cell_type": "code",
   "execution_count": 13,
   "metadata": {},
   "outputs": [
    {
     "data": {
      "text/html": [
       "<div>\n",
       "<style scoped>\n",
       "    .dataframe tbody tr th:only-of-type {\n",
       "        vertical-align: middle;\n",
       "    }\n",
       "\n",
       "    .dataframe tbody tr th {\n",
       "        vertical-align: top;\n",
       "    }\n",
       "\n",
       "    .dataframe thead th {\n",
       "        text-align: right;\n",
       "    }\n",
       "</style>\n",
       "<table border=\"1\" class=\"dataframe\">\n",
       "  <thead>\n",
       "    <tr style=\"text-align: right;\">\n",
       "      <th></th>\n",
       "      <th>Title</th>\n",
       "      <th>Year</th>\n",
       "      <th>Runtime</th>\n",
       "      <th>Genre</th>\n",
       "      <th>Rating</th>\n",
       "    </tr>\n",
       "  </thead>\n",
       "  <tbody>\n",
       "    <tr>\n",
       "      <th>0</th>\n",
       "      <td>The Shawshank Redemption</td>\n",
       "      <td>1994</td>\n",
       "      <td>142</td>\n",
       "      <td>Drama</td>\n",
       "      <td>9.3</td>\n",
       "    </tr>\n",
       "    <tr>\n",
       "      <th>1</th>\n",
       "      <td>The Godfather</td>\n",
       "      <td>1972</td>\n",
       "      <td>175</td>\n",
       "      <td>Crime,Drama</td>\n",
       "      <td>9.2</td>\n",
       "    </tr>\n",
       "    <tr>\n",
       "      <th>2</th>\n",
       "      <td>Pulp Fiction</td>\n",
       "      <td>1994</td>\n",
       "      <td>154</td>\n",
       "      <td>Crime,Drama</td>\n",
       "      <td>8.9</td>\n",
       "    </tr>\n",
       "    <tr>\n",
       "      <th>3</th>\n",
       "      <td>The Godfather Part II</td>\n",
       "      <td>1974</td>\n",
       "      <td>202</td>\n",
       "      <td>Crime,Drama</td>\n",
       "      <td>9</td>\n",
       "    </tr>\n",
       "    <tr>\n",
       "      <th>4</th>\n",
       "      <td>Inception</td>\n",
       "      <td>2010</td>\n",
       "      <td>148</td>\n",
       "      <td>Action,Adventure,Sci-Fi</td>\n",
       "      <td>8.8</td>\n",
       "    </tr>\n",
       "  </tbody>\n",
       "</table>\n",
       "</div>"
      ],
      "text/plain": [
       "                      Title  Year Runtime                    Genre Rating\n",
       "0  The Shawshank Redemption  1994     142                    Drama    9.3\n",
       "1             The Godfather  1972     175              Crime,Drama    9.2\n",
       "2              Pulp Fiction  1994     154              Crime,Drama    8.9\n",
       "3     The Godfather Part II  1974     202              Crime,Drama      9\n",
       "4                 Inception  2010     148  Action,Adventure,Sci-Fi    8.8"
      ]
     },
     "execution_count": 13,
     "metadata": {},
     "output_type": "execute_result"
    }
   ],
   "source": [
    "df.head()"
   ]
  },
  {
   "cell_type": "code",
   "execution_count": 14,
   "metadata": {},
   "outputs": [],
   "source": [
    "df.to_csv('./data/IMDb-movies-rating.csv')"
   ]
  }
 ],
 "metadata": {
  "kernelspec": {
   "display_name": "Python 3",
   "language": "python",
   "name": "python3"
  },
  "language_info": {
   "codemirror_mode": {
    "name": "ipython",
    "version": 3
   },
   "file_extension": ".py",
   "mimetype": "text/x-python",
   "name": "python",
   "nbconvert_exporter": "python",
   "pygments_lexer": "ipython3",
   "version": "3.11.7"
  }
 },
 "nbformat": 4,
 "nbformat_minor": 2
}
